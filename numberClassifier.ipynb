{
  "nbformat": 4,
  "nbformat_minor": 0,
  "metadata": {
    "colab": {
      "name": "Untitled1.ipynb",
      "version": "0.3.2",
      "provenance": [],
      "include_colab_link": true
    },
    "kernelspec": {
      "name": "python3",
      "display_name": "Python 3"
    }
  },
  "cells": [
    {
      "cell_type": "markdown",
      "metadata": {
        "id": "view-in-github",
        "colab_type": "text"
      },
      "source": [
        "[View in Colaboratory](https://colab.research.google.com/github/harry3107/tensorflow_beginers/blob/master/numberClassifier.ipynb)"
      ]
    },
    {
      "metadata": {
        "id": "VnASOTMd4loE",
        "colab_type": "code",
        "colab": {
          "base_uri": "https://localhost:8080/",
          "height": 34
        },
        "outputId": "3db1bb9b-c062-401a-81a0-c56ea13e90a7"
      },
      "cell_type": "code",
      "source": [
        "import tensorflow as tf\n",
        "tf.__version__"
      ],
      "execution_count": 10,
      "outputs": [
        {
          "output_type": "execute_result",
          "data": {
            "text/plain": [
              "'1.11.0'"
            ]
          },
          "metadata": {
            "tags": []
          },
          "execution_count": 10
        }
      ]
    },
    {
      "metadata": {
        "id": "7wtBHaNH9EE0",
        "colab_type": "code",
        "colab": {}
      },
      "cell_type": "code",
      "source": [
        "!pip install -q matplotlib-venn"
      ],
      "execution_count": 0,
      "outputs": []
    },
    {
      "metadata": {
        "id": "BBMtaxEM6j-J",
        "colab_type": "code",
        "colab": {
          "base_uri": "https://localhost:8080/",
          "height": 51
        },
        "outputId": "35955722-73e3-4f60-bc26-22b30646ea0a"
      },
      "cell_type": "code",
      "source": [
        "mnist = tf.keras.datasets.mnist\n",
        "(x_train,y_train),(x_test,y_test) = mnist.load_data()"
      ],
      "execution_count": 5,
      "outputs": [
        {
          "output_type": "stream",
          "text": [
            "Downloading data from https://storage.googleapis.com/tensorflow/tf-keras-datasets/mnist.npz\n",
            "11493376/11490434 [==============================] - 0s 0us/step\n"
          ],
          "name": "stdout"
        }
      ]
    },
    {
      "metadata": {
        "id": "i9td_NSF7kWx",
        "colab_type": "code",
        "colab": {}
      },
      "cell_type": "code",
      "source": [
        "#print(x_train[0])"
      ],
      "execution_count": 0,
      "outputs": []
    },
    {
      "metadata": {
        "id": "PRgAw_iT94Ij",
        "colab_type": "code",
        "colab": {}
      },
      "cell_type": "code",
      "source": [
        "x_train = tf.keras.utils.normalize(x_train, axis=1)\n",
        "x_test = tf.keras.utils.normalize(x_test, axis=1)\n",
        "#print(x_train[0])"
      ],
      "execution_count": 0,
      "outputs": []
    },
    {
      "metadata": {
        "id": "8SH5FV3S_RKT",
        "colab_type": "code",
        "colab": {
          "base_uri": "https://localhost:8080/",
          "height": 204
        },
        "outputId": "113d57b1-e13c-40b1-8a50-0bfefe850c75"
      },
      "cell_type": "code",
      "source": [
        "model = tf.keras.models.Sequential()\n",
        "model.add(tf.keras.layers.Flatten())\n",
        "model.add(tf.keras.layers.Dense(128, activation=tf.nn.relu))\n",
        "model.add(tf.keras.layers.Dense(128, activation=tf.nn.relu))\n",
        "model.add(tf.keras.layers.Dense(10, activation=tf.nn.softmax))\n",
        "model.compile(optimizer = 'adam',\n",
        "             loss = 'sparse_categorical_crossentropy',\n",
        "             metrics=['accuracy'])\n",
        "model.fit(x_train, y_train, epochs=5)"
      ],
      "execution_count": 25,
      "outputs": [
        {
          "output_type": "stream",
          "text": [
            "Epoch 1/5\n",
            "60000/60000 [==============================] - 5s 88us/step - loss: 0.2658 - acc: 0.9222\n",
            "Epoch 2/5\n",
            "60000/60000 [==============================] - 5s 82us/step - loss: 0.1074 - acc: 0.9672\n",
            "Epoch 3/5\n",
            "60000/60000 [==============================] - 5s 82us/step - loss: 0.0742 - acc: 0.9767\n",
            "Epoch 4/5\n",
            "60000/60000 [==============================] - 5s 81us/step - loss: 0.0553 - acc: 0.9825\n",
            "Epoch 5/5\n",
            "60000/60000 [==============================] - 5s 82us/step - loss: 0.0419 - acc: 0.9863\n"
          ],
          "name": "stdout"
        },
        {
          "output_type": "execute_result",
          "data": {
            "text/plain": [
              "<tensorflow.python.keras.callbacks.History at 0x7f0604314668>"
            ]
          },
          "metadata": {
            "tags": []
          },
          "execution_count": 25
        }
      ]
    },
    {
      "metadata": {
        "id": "_F8M7xURCmeu",
        "colab_type": "code",
        "colab": {
          "base_uri": "https://localhost:8080/",
          "height": 51
        },
        "outputId": "f415c728-9e74-4260-83fa-5eaa5d8dfed7"
      },
      "cell_type": "code",
      "source": [
        "val_loss, val_acc = model.evaluate(x_test, y_test)\n",
        "print(val_loss,val_acc)"
      ],
      "execution_count": 26,
      "outputs": [
        {
          "output_type": "stream",
          "text": [
            "10000/10000 [==============================] - 0s 28us/step\n",
            "0.0966230981079163 0.9715\n"
          ],
          "name": "stdout"
        }
      ]
    },
    {
      "metadata": {
        "id": "L89rUcMoD5U9",
        "colab_type": "code",
        "colab": {
          "base_uri": "https://localhost:8080/",
          "height": 238
        },
        "outputId": "6c1dbea3-de93-4e84-a6c1-283bbd9ce454"
      },
      "cell_type": "code",
      "source": [
        "predictions = model.predict([x_test])\n",
        "print(predictions)"
      ],
      "execution_count": 30,
      "outputs": [
        {
          "output_type": "stream",
          "text": [
            "[[5.0386390e-10 6.3254197e-09 5.3750608e-07 ... 9.9999928e-01\n",
            "  3.0401243e-10 4.3514270e-08]\n",
            " [8.0746757e-11 6.3204419e-07 9.9999499e-01 ... 7.2660535e-13\n",
            "  2.3498983e-09 3.2418802e-16]\n",
            " [9.5563649e-08 9.9930573e-01 1.1887271e-05 ... 4.5405095e-04\n",
            "  1.8778323e-04 6.8875352e-07]\n",
            " ...\n",
            " [1.6053610e-11 2.2167267e-08 4.4045662e-10 ... 2.2603551e-06\n",
            "  7.5419750e-09 4.7451427e-05]\n",
            " [4.7531444e-08 2.8467495e-08 1.7757655e-07 ... 2.9778377e-07\n",
            "  3.3735477e-03 3.9666083e-12]\n",
            " [6.1253627e-07 5.7445729e-11 1.7515406e-08 ... 9.4567990e-14\n",
            "  4.6066656e-08 1.5760213e-11]]\n"
          ],
          "name": "stdout"
        }
      ]
    },
    {
      "metadata": {
        "id": "FLuYMDB-FGXH",
        "colab_type": "code",
        "colab": {
          "base_uri": "https://localhost:8080/",
          "height": 187
        },
        "outputId": "baf4ab10-9d79-419b-f3bd-1345ff7c3b9e"
      },
      "cell_type": "code",
      "source": [
        "import numpy as np\n",
        "for i in range(10):\n",
        " print(np.argmax(predictions[i]))"
      ],
      "execution_count": 39,
      "outputs": [
        {
          "output_type": "stream",
          "text": [
            "7\n",
            "2\n",
            "1\n",
            "0\n",
            "4\n",
            "1\n",
            "4\n",
            "9\n",
            "5\n",
            "9\n"
          ],
          "name": "stdout"
        }
      ]
    }
  ]
}